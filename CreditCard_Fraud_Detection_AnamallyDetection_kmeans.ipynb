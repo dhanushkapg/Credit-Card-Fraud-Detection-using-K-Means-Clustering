{
  "nbformat": 4,
  "nbformat_minor": 0,
  "metadata": {
    "colab": {
      "private_outputs": true,
      "provenance": [],
      "gpuType": "L4"
    },
    "kernelspec": {
      "name": "python3",
      "display_name": "Python 3"
    },
    "language_info": {
      "name": "python"
    },
    "accelerator": "GPU"
  },
  "cells": [
    {
      "cell_type": "code",
      "source": [
        "import numpy as np\n",
        "import pandas as pd\n",
        "import matplotlib as plt\n",
        "import seaborn as sns\n",
        "from sklearn.preprocessing import StandardScaler\n",
        "from sklearn.cluster import KMeans\n",
        "import matplotlib.pyplot as plt"
      ],
      "metadata": {
        "id": "irzM7RwQ465S"
      },
      "execution_count": null,
      "outputs": []
    },
    {
      "cell_type": "code",
      "source": [
        "# prompt: import file to colab\n",
        "\n",
        "from google.colab import files\n",
        "uploaded = files.upload()\n"
      ],
      "metadata": {
        "id": "5y0sQ4Y75TM_"
      },
      "execution_count": null,
      "outputs": []
    },
    {
      "cell_type": "code",
      "source": [],
      "metadata": {
        "id": "uU6tG6j-7_nH"
      },
      "execution_count": null,
      "outputs": []
    },
    {
      "cell_type": "code",
      "source": [
        "df_creditCard=pd.read_csv('/content/creditcard.csv')"
      ],
      "metadata": {
        "id": "jvfdr24Jil-f"
      },
      "execution_count": null,
      "outputs": []
    },
    {
      "cell_type": "code",
      "source": [
        "df_creditCard.head()"
      ],
      "metadata": {
        "id": "ftaZd-dHpCGi"
      },
      "execution_count": null,
      "outputs": []
    },
    {
      "cell_type": "code",
      "source": [
        "scaler = StandardScaler()\n",
        "df_scalled_Data = scaler.fit_transform(df_creditCard)"
      ],
      "metadata": {
        "id": "zKsdJ0f_pEup"
      },
      "execution_count": null,
      "outputs": []
    },
    {
      "cell_type": "code",
      "source": [
        "df_scalled_Data"
      ],
      "metadata": {
        "id": "lw17EHzkqvoz"
      },
      "execution_count": null,
      "outputs": []
    },
    {
      "cell_type": "code",
      "source": [
        "distance_to_Centroid=[]\n",
        "k_values=range(1,15)\n",
        "for i in k_values:\n",
        "    kmeans = KMeans(n_clusters=i, random_state=42)  # K means object creation\n",
        "    kmeans.fit(df_creditCard)\n",
        "    distance_to_Centroid.append(kmeans.inertia_)\n",
        "\n",
        "\n",
        "plt.plot(k_values, distance_to_Centroid, 'bo-')\n",
        "plt.xlabel('Number of Clusters (k)')\n",
        "plt.ylabel('Inertia')\n",
        "plt.title('Elbow Method to Determine Optimal k')\n",
        "plt.show()"
      ],
      "metadata": {
        "id": "y4J5Onftq3BI"
      },
      "execution_count": null,
      "outputs": []
    },
    {
      "cell_type": "markdown",
      "source": [
        "K=6"
      ],
      "metadata": {
        "id": "W3wlOcES2dSc"
      }
    },
    {
      "cell_type": "code",
      "source": [
        "  kmeans_valid = KMeans(n_clusters=6,random_state=42)"
      ],
      "metadata": {
        "id": "B1Qq1hZC2Xeb"
      },
      "execution_count": null,
      "outputs": []
    },
    {
      "cell_type": "code",
      "source": [
        "kmeans_valid.fit(df_creditCard)"
      ],
      "metadata": {
        "id": "JHDrKpPtGWm9"
      },
      "execution_count": null,
      "outputs": []
    },
    {
      "cell_type": "code",
      "source": [
        "kmeans_valid"
      ],
      "metadata": {
        "id": "U9C9rzfmr9oh"
      },
      "execution_count": null,
      "outputs": []
    },
    {
      "cell_type": "code",
      "source": [
        "kmeans_valid.labels_"
      ],
      "metadata": {
        "id": "uSviWe0QsBmh"
      },
      "execution_count": null,
      "outputs": []
    },
    {
      "cell_type": "code",
      "source": [
        "# prompt: plot the data\n",
        "\n",
        "import matplotlib.pyplot as plt\n",
        "plt.scatter(df_creditCard['Amount'], df_creditCard['Time'], c=kmeans_valid.labels_)\n",
        "plt.xlabel('Amount')\n",
        "plt.ylabel('Time')\n",
        "plt.title('K-Means Clustering Results')\n",
        "plt.show()\n"
      ],
      "metadata": {
        "id": "nYfbw6bEinZo"
      },
      "execution_count": null,
      "outputs": []
    },
    {
      "cell_type": "code",
      "source": [],
      "metadata": {
        "id": "G7P6iDFG15kf"
      },
      "execution_count": null,
      "outputs": []
    },
    {
      "cell_type": "code",
      "source": [
        "cluster_centers = kmeans_valid.cluster_centers_"
      ],
      "metadata": {
        "id": "zUmJtokv2OOj"
      },
      "execution_count": null,
      "outputs": []
    },
    {
      "cell_type": "code",
      "source": [
        "cluster_labels=kmeans_valid.predict(df_creditCard)"
      ],
      "metadata": {
        "id": "Y_3H2eB36LH1"
      },
      "execution_count": null,
      "outputs": []
    },
    {
      "cell_type": "code",
      "source": [
        "cluster_centers"
      ],
      "metadata": {
        "id": "v2eKwuP72VBN"
      },
      "execution_count": null,
      "outputs": []
    },
    {
      "cell_type": "markdown",
      "source": [],
      "metadata": {
        "id": "sAOgVMzXk9Fv"
      }
    },
    {
      "cell_type": "code",
      "source": [
        "df_creditCard_2d = df_creditCard.to_numpy()"
      ],
      "metadata": {
        "id": "BOTzbMge86jM"
      },
      "execution_count": null,
      "outputs": []
    },
    {
      "cell_type": "code",
      "source": [
        "distances = [np.linalg.norm(x - cluster_centers[cluster]) for x, cluster in zip(df_creditCard_2d, cluster_labels)]"
      ],
      "metadata": {
        "id": "kWBCz8zl5Rwb"
      },
      "execution_count": null,
      "outputs": []
    },
    {
      "cell_type": "code",
      "source": [
        "distances"
      ],
      "metadata": {
        "id": "XeebfplK9PQl"
      },
      "execution_count": null,
      "outputs": []
    },
    {
      "cell_type": "code",
      "source": [
        "percentile_threshold = 95   # thresold  % distance the boundry of legit data point\n",
        "threshold_distance = np.percentile(distances, percentile_threshold)   # legit distance"
      ],
      "metadata": {
        "id": "tWuYRI1i9uYt"
      },
      "execution_count": null,
      "outputs": []
    },
    {
      "cell_type": "code",
      "source": [
        "# Identify anomalies\n",
        "anomalies = [df_creditCard_2d[i] for i, distance in enumerate(distances) if distance > threshold_distance]\n",
        "anomalies = np.asarray(anomalies, dtype=np.float32)"
      ],
      "metadata": {
        "id": "HZaycG5C-DAr"
      },
      "execution_count": null,
      "outputs": []
    },
    {
      "cell_type": "code",
      "source": [
        "# prompt: draw plot anamalies\n",
        "\n",
        "import matplotlib.pyplot as plt\n",
        "plt.scatter(df_creditCard['Amount'], df_creditCard['Time'], c=cluster_labels)\n",
        "plt.scatter(anomalies[:, df_creditCard.columns.get_loc('Amount')], anomalies[:, df_creditCard.columns.get_loc('Time')], c='red', marker='x', label='Anomalies')\n",
        "plt.xlabel('Amount')\n",
        "plt.ylabel('Time')\n",
        "plt.title('K-Means Clustering with Anomalies')\n",
        "plt.legend()\n",
        "plt.show()\n"
      ],
      "metadata": {
        "id": "lXZCAMCvCf_8"
      },
      "execution_count": null,
      "outputs": []
    }
  ]
}